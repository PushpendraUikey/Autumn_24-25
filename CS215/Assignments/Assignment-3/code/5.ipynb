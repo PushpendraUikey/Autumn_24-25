{
 "cells": [
  {
   "cell_type": "markdown",
   "metadata": {},
   "source": [
    "Pushpendra 23b1023-\n",
    "Nischal 23b1024-\n",
    "Nithin 23b0993"
   ]
  },
  {
   "cell_type": "code",
   "execution_count": 1,
   "metadata": {},
   "outputs": [],
   "source": [
    "import pandas as pd\n",
    "import numpy as np\n",
    "from matplotlib import pyplot as plt"
   ]
  },
  {
   "cell_type": "code",
   "execution_count": 2,
   "metadata": {},
   "outputs": [],
   "source": [
    "def data_split(df, split_ratio=0.9):\n",
    "    data = np.asarray(df, dtype='float')\n",
    "    np.random.shuffle(data)\n",
    "    n = data.shape[1]\n",
    "    split_index = int(split_ratio * data.shape[0])\n",
    "    \n",
    "    x_train = data[:split_index, 0:n-1]\n",
    "    y_train = data[:split_index, n-1]\n",
    "    x_test = data[split_index:, 0:n-1]\n",
    "    y_test = data[split_index:, n-1]\n",
    "    return x_train, y_train, x_test, y_test"
   ]
  },
  {
   "cell_type": "code",
   "execution_count": 3,
   "metadata": {},
   "outputs": [],
   "source": [
    "def compute_B(x_train,y_train):\n",
    "    x_transpose = np.transpose(x_train)\n",
    "    x_transpose_dot_x = np.dot(x_transpose, x_train)\n",
    "    inverse = np.linalg.inv(x_transpose_dot_x)\n",
    "    B = np.dot(inverse, np.dot(x_transpose, y_train))\n",
    "    return B"
   ]
  },
  {
   "cell_type": "code",
   "execution_count": 4,
   "metadata": {},
   "outputs": [],
   "source": [
    "def cost(x,y,B):\n",
    "    f = np.dot(x,B)\n",
    "    cost = np.mean(np.abs(f - y))\n",
    "    return cost"
   ]
  },
  {
   "cell_type": "code",
   "execution_count": null,
   "metadata": {},
   "outputs": [],
   "source": [
    "train_path = 'train.csv'\n",
    "test_path = 'test.csv'\n",
    "submission_path = 'sample_submission.csv'\n",
    "\n",
    "train_data = pd.read_csv(train_path)\n",
    "test_data = pd.read_csv(test_path)\n",
    "\n",
    "columns = ['id', 'Row#','MaxOfLowerTRange']\n",
    "train_data = train_data.drop(columns=columns)\n",
    "train_data[1] = train_data['fruitset']**2\n",
    "train_data[2] = train_data['seeds']**2\n",
    "train_data[3] = train_data['fruitmass']**2\n",
    "train_data[4] = train_data['fruitset']**3\n",
    "train_data[5] = train_data['seeds']**3\n",
    "train_data[6] = train_data['fruitmass']**3\n",
    "train_data[7] = train_data['fruitset']**4\n",
    "train_data[8] = train_data['fruitset']*train_data['seeds']\n",
    "train_data[9] = train_data['fruitset']**5\n",
    "\n",
    "yeild = np.asarray(train_data['yield'])\n",
    "train_data = train_data.loc[:, train_data.columns != 'yield']\n",
    "train_data['yield'] = yeild\n",
    "correlation_matrix = train_data.corr()\n",
    "\n",
    "yield_correlation = correlation_matrix['yield'].sort_values(ascending=False)\n",
    "print(yield_correlation)"
   ]
  },
  {
   "cell_type": "code",
   "execution_count": null,
   "metadata": {},
   "outputs": [],
   "source": [
    "x_train, y_train, x_test, y_test = data_split(train_data)\n",
    "x_train = np.hstack((np.ones((x_train.shape[0], 1)),x_train))\n",
    "x_test = np.hstack((np.ones((x_test.shape[0], 1)), x_test))\n",
    "B = compute_B(x_train, y_train)\n",
    "cost(x_test,y_test,B)"
   ]
  },
  {
   "cell_type": "code",
   "execution_count": 7,
   "metadata": {},
   "outputs": [],
   "source": [
    "test_data = pd.read_csv(test_path)\n",
    "drop_columns = ['id', 'Row#', 'MaxOfLowerTRange']\n",
    "test_data = test_data.drop(columns=drop_columns)\n",
    "\n",
    "# Generate new features for test data, similar to the ones in train data\n",
    "test_data[1] = test_data['fruitset']**2\n",
    "test_data[2] = test_data['seeds']**2\n",
    "test_data[3] = test_data['fruitmass']**2\n",
    "test_data[4] = test_data['fruitset']**3\n",
    "test_data[5] = test_data['seeds']**3\n",
    "test_data[6] = test_data['fruitmass']**3\n",
    "test_data[7] = test_data['fruitset']**4\n",
    "test_data[8] = test_data['fruitset']*test_data['seeds']\n",
    "test_data[9] = test_data['fruitset']**5\n",
    "\n",
    "# test_data[8] = test_data['seeds']**4\n",
    "# test_data[9] = test_data['fruitmass']**4\n",
    "x = np.asarray(test_data)\n",
    "x = np.hstack((np.ones((x.shape[0], 1)), x))\n",
    "Y_test = np.dot(x,B)\n",
    "\n",
    "# y_test = np.dot()"
   ]
  },
  {
   "cell_type": "code",
   "execution_count": 8,
   "metadata": {},
   "outputs": [],
   "source": [
    "test_data1 = pd.read_csv(test_path)\n",
    "test_data1 = test_data1[['id']]  # Keep only the 'id' column\n",
    "\n",
    "# Add the predicted 'yield' values\n",
    "test_data1['yield'] = Y_test\n",
    "test_data1.to_csv('submission.csv', index=False)"
   ]
  }
 ],
 "metadata": {
  "kernelspec": {
   "display_name": "Python 3",
   "language": "python",
   "name": "python3"
  },
  "language_info": {
   "codemirror_mode": {
    "name": "ipython",
    "version": 3
   },
   "file_extension": ".py",
   "mimetype": "text/x-python",
   "name": "python",
   "nbconvert_exporter": "python",
   "pygments_lexer": "ipython3",
   "version": "3.10.12"
  }
 },
 "nbformat": 4,
 "nbformat_minor": 4
}
